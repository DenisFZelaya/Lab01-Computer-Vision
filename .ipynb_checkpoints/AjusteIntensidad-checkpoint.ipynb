{
 "cells": [
  {
   "cell_type": "code",
   "execution_count": null,
   "metadata": {},
   "outputs": [],
   "source": [
    "# 1. Seleccionar 2 imagenes que requieran una mejora de constraste\n",
    "# 2. Aplica 2 tecnicas que permitan mejorar el contraste\n",
    "# una con dev propio y otra con OpenCV\n",
    "# 3. Aplica las dos tecnicas a las 2 imagenes\n",
    "# 4. Describe como seleccionaste la mejor tecnica para el ajuste de intensidad\n",
    "# 5. Describe caracteristicas de las tecnicas seleccionadas\n",
    "# 6. Compara y concluye"
   ]
  }
 ],
 "metadata": {
  "kernelspec": {
   "display_name": "Python 3",
   "language": "python",
   "name": "python3"
  },
  "language_info": {
   "codemirror_mode": {
    "name": "ipython",
    "version": 3
   },
   "file_extension": ".py",
   "mimetype": "text/x-python",
   "name": "python",
   "nbconvert_exporter": "python",
   "pygments_lexer": "ipython3",
   "version": "3.7.6"
  }
 },
 "nbformat": 4,
 "nbformat_minor": 4
}
